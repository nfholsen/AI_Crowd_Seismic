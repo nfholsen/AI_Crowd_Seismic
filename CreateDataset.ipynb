{
 "cells": [
  {
   "cell_type": "code",
   "execution_count": 1,
   "metadata": {},
   "outputs": [],
   "source": [
    "import matplotlib.pyplot as plt\n",
    "from matplotlib import cm\n",
    "import pandas as pd\n",
    "import numpy as np\n",
    "import cv2\n",
    "\n",
    "from PIL import Image"
   ]
  },
  {
   "cell_type": "code",
   "execution_count": 2,
   "metadata": {},
   "outputs": [],
   "source": [
    "data_train = np.load('data_train.npz', allow_pickle=True, mmap_mode='r')\n",
    "data_train = data_train['data']\n",
    "\n",
    "\n",
    "labels_train = np.load('labels_train.npz', allow_pickle=True, mmap_mode='r')\n",
    "labels_train = labels_train['labels']\n",
    "\n",
    "data_test = np.load('data_test_1.npz', allow_pickle=True, mmap_mode='r')\n",
    "data_test = data_test['data']"
   ]
  },
  {
   "cell_type": "code",
   "execution_count": 59,
   "metadata": {},
   "outputs": [
    {
     "data": {
      "text/plain": [
       "(1006, 782, 251)"
      ]
     },
     "execution_count": 59,
     "metadata": {},
     "output_type": "execute_result"
    }
   ],
   "source": [
    "data_test.shape"
   ]
  },
  {
   "cell_type": "code",
   "execution_count": 3,
   "metadata": {},
   "outputs": [],
   "source": [
    "def MinMaxNormalization(image,vmin=0, vmax=1):\n",
    "        arr = np.array(image).astype('float32')\n",
    "        arr = (arr - arr.min()) / (arr.max() - arr.min())\n",
    "        arr = (vmax - vmin) * arr + vmin\n",
    "        return arr"
   ]
  },
  {
   "cell_type": "code",
   "execution_count": 54,
   "metadata": {},
   "outputs": [],
   "source": [
    "df = pd.DataFrame(columns=['path'])\n",
    "df.to_csv('train_image.csv')\n",
    "\n",
    "df = pd.DataFrame(columns=['path'])\n",
    "df.to_csv('train_mask.csv')\n",
    "\n",
    "df = pd.DataFrame(columns=['path'])\n",
    "df.to_csv('test_image.csv') "
   ]
  },
  {
   "cell_type": "markdown",
   "metadata": {},
   "source": [
    "#### 1 D image extraction"
   ]
  },
  {
   "cell_type": "code",
   "execution_count": 62,
   "metadata": {},
   "outputs": [
    {
     "data": {
      "text/plain": [
       "<matplotlib.image.AxesImage at 0x1e6ef400080>"
      ]
     },
     "execution_count": 62,
     "metadata": {},
     "output_type": "execute_result"
    },
    {
     "data": {
      "image/png": "[encoded data removed]",
      "text/plain": [
       "<Figure size 432x288 with 1 Axes>"
      ]
     },
     "metadata": {
      "needs_background": "light"
     },
     "output_type": "display_data"
    }
   ],
   "source": [
    "plt.imshow(data_test[:,20,:])"
   ]
  },
  {
   "cell_type": "code",
   "execution_count": 58,
   "metadata": {},
   "outputs": [
    {
     "ename": "AttributeError",
     "evalue": "'numpy.ndarray' object has no attribute 'save'",
     "output_type": "error",
     "traceback": [
      "\u001b[1;31m---------------------------------------------------------------------------\u001b[0m",
      "\u001b[1;31mAttributeError\u001b[0m                            Traceback (most recent call last)",
      "\u001b[1;32m<ipython-input-58-b3ee73f416be>\u001b[0m in \u001b[0;36m<module>\u001b[1;34m\u001b[0m\n\u001b[0;32m     16\u001b[0m     \u001b[0mmask\u001b[0m \u001b[1;33m=\u001b[0m \u001b[0mImage\u001b[0m\u001b[1;33m.\u001b[0m\u001b[0mfromarray\u001b[0m\u001b[1;33m(\u001b[0m\u001b[0my\u001b[0m\u001b[1;33m)\u001b[0m\u001b[1;33m.\u001b[0m\u001b[0mresize\u001b[0m\u001b[1;33m(\u001b[0m\u001b[1;33m(\u001b[0m\u001b[1;36m512\u001b[0m\u001b[1;33m,\u001b[0m\u001b[1;36m512\u001b[0m\u001b[1;33m)\u001b[0m\u001b[1;33m)\u001b[0m\u001b[1;33m\u001b[0m\u001b[1;33m\u001b[0m\u001b[0m\n\u001b[0;32m     17\u001b[0m \u001b[1;33m\u001b[0m\u001b[0m\n\u001b[1;32m---> 18\u001b[1;33m     \u001b[0mimage\u001b[0m\u001b[1;33m.\u001b[0m\u001b[0msave\u001b[0m\u001b[1;33m(\u001b[0m\u001b[1;34m'Train/Images/seismic_x_'\u001b[0m\u001b[1;33m+\u001b[0m\u001b[0mstr\u001b[0m\u001b[1;33m(\u001b[0m\u001b[0mi\u001b[0m\u001b[1;33m)\u001b[0m\u001b[1;33m+\u001b[0m\u001b[1;34m'.png'\u001b[0m\u001b[1;33m)\u001b[0m\u001b[1;33m\u001b[0m\u001b[1;33m\u001b[0m\u001b[0m\n\u001b[0m\u001b[0;32m     19\u001b[0m     \u001b[0mmask\u001b[0m\u001b[1;33m.\u001b[0m\u001b[0msave\u001b[0m\u001b[1;33m(\u001b[0m\u001b[1;34m'Train/Mask/seismic_x_'\u001b[0m\u001b[1;33m+\u001b[0m\u001b[0mstr\u001b[0m\u001b[1;33m(\u001b[0m\u001b[0mi\u001b[0m\u001b[1;33m)\u001b[0m\u001b[1;33m+\u001b[0m\u001b[1;34m'.png'\u001b[0m\u001b[1;33m)\u001b[0m\u001b[1;33m\u001b[0m\u001b[1;33m\u001b[0m\u001b[0m\n\u001b[0;32m     20\u001b[0m     \u001b[0mdf_train_image\u001b[0m\u001b[1;33m.\u001b[0m\u001b[0mloc\u001b[0m\u001b[1;33m[\u001b[0m\u001b[0mi\u001b[0m\u001b[1;33m,\u001b[0m\u001b[1;34m'path'\u001b[0m\u001b[1;33m]\u001b[0m \u001b[1;33m=\u001b[0m \u001b[1;34m'Train/Images/seismic_x_'\u001b[0m\u001b[1;33m+\u001b[0m\u001b[0mstr\u001b[0m\u001b[1;33m(\u001b[0m\u001b[0mi\u001b[0m\u001b[1;33m)\u001b[0m\u001b[1;33m+\u001b[0m\u001b[1;34m'.png'\u001b[0m\u001b[1;33m\u001b[0m\u001b[1;33m\u001b[0m\u001b[0m\n",
      "\u001b[1;31mAttributeError\u001b[0m: 'numpy.ndarray' object has no attribute 'save'"
     ]
    }
   ],
   "source": [
    "df_train_image = pd.read_csv('train_image.csv')\n",
    "df_train_mask = pd.read_csv('train_mask.csv')\n",
    "\n",
    "for i in range(data_train.shape[1]):\n",
    "    # Extract image and mask\n",
    "    x = data_train[:,i,:]\n",
    "    y = labels_train[:,i,:]\n",
    "    \n",
    "    # Normalize and standardize the image\n",
    "    x = MinMaxNormalization(x,vmin=0, vmax=1)\n",
    "    x=(x-x.mean())/x.std()\n",
    "    \n",
    "    # Resize image and mask\n",
    "    image = Image.fromarray(cm.gist_earth(x, bytes=True)).resize((512,512))\n",
    "    mask = Image.fromarray(y).resize((512,512))\n",
    "    \n",
    "    image.save('Train/Images/seismic_x_'+str(i)+'.png')\n",
    "    mask.save('Train/Mask/seismic_x_'+str(i)+'.png')\n",
    "    df_train_image.loc[i,'path'] = 'Train/Images/seismic_x_'+str(i)+'.png'\n",
    "    df_train_mask.loc[i,'path'] = 'Train/Mask/seismic_x_'+str(i)+'.png'\n",
    "\n",
    "df_train_image.to_csv('train_image.csv')\n",
    "df_train_mask.to_csv('train_mask.csv')"
   ]
  },
  {
   "cell_type": "code",
   "execution_count": 30,
   "metadata": {},
   "outputs": [],
   "source": [
    "df_test_image = pd.read_csv('test_image.csv')\n",
    "\n",
    "for i in range(data_test.shape[1]):\n",
    "    x = data_test[:,i,:]\n",
    "    \n",
    "    # Normalize and standardize the image\n",
    "    x = MinMaxNormalization(x,vmin=0, vmax=1)\n",
    "    x=(x-x.mean())/x.std()\n",
    "    image = Image.fromarray(cm.gist_earth(x, bytes=True)).resize((512,512))\n",
    "    \n",
    "    image.save('Test/Images/seismic_x_'+str(i)+'.png')\n",
    "    df_test_image.loc[i,'path'] = 'Test/Images/seismic_x_'+str(i)+'.png'\n",
    "\n",
    "df_test_image.to_csv('test_image.csv')"
   ]
  },
  {
   "cell_type": "markdown",
   "metadata": {},
   "source": [
    "#### 2 D image extraction"
   ]
  },
  {
   "cell_type": "code",
   "execution_count": null,
   "metadata": {},
   "outputs": [],
   "source": [
    "df_train_image = pd.read_csv('train_image.csv')\n",
    "df_train_mask = pd.read_csv('train_mask.csv')\n",
    "\n",
    "for i in range(data_train.shape[1]):\n",
    "    x = data_train[:,i,:]\n",
    "    y = labels_train[:,i,:]\n",
    "    \n",
    "    x = MinMaxNormalization(x)\n",
    "    x = resize(x,(512,512))\n",
    "    y = resize(y,(512,512))\n",
    "    \n",
    "    cv2.imwrite('Train/Images/seismic_x_'+str(i)+'.png', x)\n",
    "    cv2.imwrite('Train/Mask/seismic_x_'+str(i)+'.png', y)\n",
    "    df_train_image.loc[i,'path'] = 'Train/Images/seismic_x_'+str(i)+'.png'\n",
    "    df_train_mask.loc[i,'path'] = 'Train/Mask/seismic_x_'+str(i)+'.png'\n",
    "\n",
    "for i in range(data_train.shape[2]):    \n",
    "    x = data_train[:,:,i]\n",
    "    y = labels_train[:,:,i]\n",
    "    \n",
    "    x = MinMaxNormalization(x)\n",
    "    x = resize(x,(512,512))\n",
    "    y = resize(y,(512,512))\n",
    "\n",
    "    cv2.imwrite('Train/Images/seismic_y_'+str(i+data_train.shape[1])+'.png', x)\n",
    "    cv2.imwrite('Train/Mask/seismic_y_'+str(i+data_train.shape[1])+'.png', y)\n",
    "    \n",
    "    df_train_image.loc[i+data_train.shape[1],'path'] = 'Train/Images/seismic_y_'+str(i)+'.png'\n",
    "    df_train_mask.loc[i+data_train.shape[1],'path'] = 'Train/Mask/seismic_y_'+str(i)+'.png'\n",
    "\n",
    "df_train_image.to_csv('train_image.csv')\n",
    "df_train_mask.to_csv('train_mask.csv')"
   ]
  },
  {
   "cell_type": "code",
   "execution_count": null,
   "metadata": {},
   "outputs": [],
   "source": [
    "df_test_image = pd.read_csv('test_image.csv')\n",
    "\n",
    "for i in range(data_test.shape[1]):\n",
    "    x = data_test[:,i,:]\n",
    "    \n",
    "    x = MinMaxNormalization(x)\n",
    "    x = resize(x,(512,512))\n",
    "    \n",
    "    cv2.imwrite('Test/Images/seismic_x_'+str(i)+'.png', x)\n",
    "    df_test_image.loc[i,'path'] = 'Test/Images/seismic_x_'+str(i)+'.png'\n",
    "\n",
    "for i in range(data_test.shape[2]):    \n",
    "    x = data_test[:,:,i]\n",
    "    \n",
    "    x = MinMaxNormalization(x)\n",
    "    x = resize(x,(512,512))\n",
    "\n",
    "    cv2.imwrite('Test/Images/seismic_y_'+str(i+data_test.shape[1])+'.png', x)\n",
    "    \n",
    "    df_test_image.loc[data_test.shape[1]+i,'path'] = 'Test/Images/seismic_y_'+str(i)+'.png'\n",
    "\n",
    "df_test_image.to_csv('test_image.csv')"
   ]
  },
  {
   "cell_type": "code",
   "execution_count": null,
   "metadata": {},
   "outputs": [],
   "source": []
  }
 ],
 "metadata": {
  "kernelspec": {
   "display_name": "Python 3",
   "language": "python",
   "name": "python3"
  },
  "language_info": {
   "codemirror_mode": {
    "name": "ipython",
    "version": 3
   },
   "file_extension": ".py",
   "mimetype": "text/x-python",
   "name": "python",
   "nbconvert_exporter": "python",
   "pygments_lexer": "ipython3",
   "version": "3.7.3"
  }
 },
 "nbformat": 4,
 "nbformat_minor": 4
}
